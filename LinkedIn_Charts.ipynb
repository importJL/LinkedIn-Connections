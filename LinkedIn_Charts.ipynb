{
 "cells": [
  {
   "cell_type": "markdown",
   "id": "947b2224-30fa-47c3-98d0-06a37c4319b8",
   "metadata": {},
   "source": [
    "# LinkedIn Connection Discovery\n",
    "---"
   ]
  },
  {
   "cell_type": "markdown",
   "id": "1dd7755d-fbf9-4dc9-81db-51b4613498a3",
   "metadata": {
    "tags": []
   },
   "source": [
    "### Import Libraries"
   ]
  },
  {
   "cell_type": "code",
   "execution_count": null,
   "id": "0a51541b-3c03-42d5-ad7e-10ff370d5db0",
   "metadata": {},
   "outputs": [],
   "source": [
    "import pandas as pd \n",
    "import numpy as np\n",
    "from plotly.subplots import make_subplots\n",
    "import plotly.express as px\n",
    "import plotly.graph_objects as go\n",
    "import matplotlib.pyplot as plt\n",
    "from xhtml2pdf import pisa\n",
    "from bs4 import BeautifulSoup\n",
    "from pyvis import network as net\n",
    "import networkx as nx"
   ]
  },
  {
   "cell_type": "markdown",
   "id": "eb5c8e31-f9a1-4c38-b89c-e1f84c642859",
   "metadata": {},
   "source": [
    "### Define functions"
   ]
  },
  {
   "cell_type": "code",
   "execution_count": null,
   "id": "64223b27-c1df-4bb3-8a43-336922cb8040",
   "metadata": {},
   "outputs": [],
   "source": [
    "def convert_nonenglish_text(text):\n",
    "    if text == '香港匯豐銀行':\n",
    "        text = 'HSBC'\n",
    "    elif text == '中國銀行（香港）有限公司':\n",
    "        text = 'Bank of China'\n",
    "    return text\n",
    "\n",
    "def get_lang_detector(nlp, name):\n",
    "    return LanguageDetector()\n",
    "\n",
    "def strip_empty_lines(text):\n",
    "    lines = text.split('\\n')\n",
    "    non_empty_lines = [line for line in lines if line.strip() != '']\n",
    "    string_without_empty_lines = ''\n",
    "    for line in non_empty_lines:\n",
    "        string_without_empty_lines += line + \"\\n\"\n",
    "    return string_without_empty_lines\n",
    "\n",
    "def transcribe_html(in_html_file, out_html_file, mode, bs_code, bs_elem, new_html_file, *args):\n",
    "    chart_html_file = open(in_html_file, 'r', encoding='utf-8')\n",
    "    soup = BeautifulSoup(chart_html_file, 'html.parser')\n",
    "    \n",
    "    if new_html_file != None:\n",
    "        with open(new_html_file, 'r', encoding='utf-8') as f:\n",
    "            new_file = f.read()\n",
    "        html_string = str(BeautifulSoup(new_file, 'html.parser'))\n",
    "    \n",
    "    if mode == 'chart':\n",
    "        chart_div = str(soup.find_all('div')[1])\n",
    "        chart_div = chart_div.split()\n",
    "        if bs_elem == 'class':\n",
    "            chart_div[1] = chart_div[1][:-1] + bs_code\n",
    "            chart_div = ' '.join(chart_div)\n",
    "\n",
    "        with open(out_html_file, 'r', encoding='utf-8') as f:\n",
    "            html_index = f.read()\n",
    "            html_string = str(html_index)\n",
    "            html_string = html_string.replace(args[0], chart_div)\n",
    "            html_string = html_string.replace(args[1], str(soup.script))\n",
    "\n",
    "        with open(out_html_file, 'w', encoding='utf-8') as f:\n",
    "            f.write(html_string)\n",
    "    elif mode == 'network':\n",
    "        network_style_internal = strip_empty_lines(str(soup.style))\n",
    "        find_hash = network_style_internal.find('#')\n",
    "        find_space = network_style_internal.find(' ', find_hash)\n",
    "        network_id = network_style_internal[find_hash + 1:find_space]\n",
    "\n",
    "        network_style_cdn = str(soup.link)\n",
    "        network_script_cdn = strip_empty_lines(str(soup.find_all('script')[0]))\n",
    "        network_script_internal = strip_empty_lines(str(soup.find_all('script')[1]))\n",
    "        network_div = str(soup.find(id=network_id))\n",
    "        network_div = network_div.split()\n",
    "        network_div.insert(1, bs_code)\n",
    "        network_div = ' '.join(network_div)\n",
    "        \n",
    "        html_string = html_string.replace('(network_style_cdn)', network_style_cdn)\n",
    "        html_string = html_string.replace('(network_script_cdn)', network_script_cdn)\n",
    "        html_string = html_string.replace('(network_style_internal)', network_style_internal)\n",
    "        html_string = html_string.replace('(network_script_internal)', network_script_internal)\n",
    "        html_string = html_string.replace('(network1)', network_div)\n",
    "\n",
    "        with open(out_html_file, 'w+', encoding='utf-8') as f:\n",
    "            f.write(html_string)\n",
    "\n",
    "    chart_html_file.close()\n",
    "    del soup\n",
    "    \n",
    "def convert_html_to_pdf(source_html, output_filename):\n",
    "    result_file = open(output_filename, \"w+b\")\n",
    "    pisa_status = pisa.CreatePDF(\n",
    "            source_html,\n",
    "            dest=result_file)\n",
    "\n",
    "    result_file.close()\n",
    "    if pisa_status.err:\n",
    "        return 'Could not generate PDF.  Please try again.'\n",
    "    else:\n",
    "        return 'PDF generated!'"
   ]
  },
  {
   "cell_type": "markdown",
   "id": "b868759a-1c2d-499a-9433-cfb139e52504",
   "metadata": {},
   "source": [
    "### Settings"
   ]
  },
  {
   "cell_type": "code",
   "execution_count": null,
   "id": "f700e6fd-225c-4b15-9b2f-300a06918885",
   "metadata": {},
   "outputs": [],
   "source": [
    "html_template_fname = 'index.html'\n",
    "output_html_fname = 'index_revised.html'\n",
    "\n",
    "### pdf inputs (currently not functional) ###\n",
    "pdf_fname = 'stats.pdf'\n",
    "bool_to_pdf = False"
   ]
  },
  {
   "cell_type": "markdown",
   "id": "39f644cd-afa3-4ca8-95c0-fe23b2cea05d",
   "metadata": {},
   "source": [
    "### Load and process connections data"
   ]
  },
  {
   "cell_type": "code",
   "execution_count": null,
   "id": "5ddc77e4-ae09-4eb0-8deb-9f230bea667d",
   "metadata": {},
   "outputs": [],
   "source": [
    "network_data = pd.read_csv('./Connections.csv', skiprows=3).dropna().reset_index(drop=True)\n",
    "network_data_count = network_data['Company'].value_counts().reset_index()\n",
    "network_data_count_pos = network_data['Position'].value_counts().reset_index()\n",
    "network_data_count.columns = ['Company', 'Count']\n",
    "network_data_count = network_data_count.sort_values(by=\"Count\", ascending=False)\n",
    "network_data_count_comp = network_data_count.loc[network_data_count['Count']>2]\n",
    "network_data_count_pos.columns = ['Position', 'Count']\n",
    "network_data_count_pos = network_data_count_pos.loc[network_data_count_pos['Count']>2]\n",
    "\n",
    "network_data['Connected On'] = pd.to_datetime(network_data['Connected On'])\n",
    "network_data['Company'] = network_data['Company'].apply(convert_nonenglish_text)"
   ]
  },
  {
   "cell_type": "markdown",
   "id": "58277505-50b0-43ee-a1d4-661d0e739ad0",
   "metadata": {},
   "source": [
    "### Set up Plotly figure layout"
   ]
  },
  {
   "cell_type": "code",
   "execution_count": null,
   "id": "22427cb4-42f2-42ea-8392-e577e5f652b4",
   "metadata": {},
   "outputs": [],
   "source": [
    "fig = go.Figure().set_subplots(\n",
    "    rows=1, cols=2,\n",
    "    specs=[[{'type': 'pie'}, {'type': 'treemap'}]]\n",
    ")\n",
    "\n",
    "fig2, fig3 = go.Figure(), go.Figure()\n",
    "\n",
    "general_config = {\n",
    "    'toImageButtonOptions': {\n",
    "        'format': 'jpeg',\n",
    "        'filename': 'custom_image',\n",
    "        'height': 700,\n",
    "        'width': 700,\n",
    "        'scale': 1\n",
    "    },\n",
    "    'responsive': True\n",
    "}"
   ]
  },
  {
   "cell_type": "markdown",
   "id": "daa9a76e-09ad-4ae7-9a78-eaf5d8d1f4c0",
   "metadata": {},
   "source": [
    "### Generate treemap of connections"
   ]
  },
  {
   "cell_type": "code",
   "execution_count": null,
   "id": "0c160980-3e53-4298-a1e8-46c1b1823b24",
   "metadata": {},
   "outputs": [],
   "source": [
    "top_n = 10\n",
    "treemap_data = network_data.groupby('Company').count().sort_values('Connected On', ascending=False).reset_index().head(top_n)\n",
    "labels = treemap_data['Company']\n",
    "values = treemap_data['First Name']\n",
    "parents = ['(click to collapse)'] * len(labels)\n",
    "\n",
    "fig.add_trace(\n",
    "    go.Treemap(\n",
    "        labels=labels,\n",
    "        values=values,\n",
    "        parents=parents,\n",
    "        textinfo='label+value+percent parent',\n",
    "        texttemplate='%{label}<br># of connections: %{value}',\n",
    "        hoverinfo='none',\n",
    "    ), row=1, col=1\n",
    ")\n",
    "\n",
    "annotations = list()\n",
    "annotations.append(\n",
    "    dict(x=0.0, y=1.05,\n",
    "         xanchor='left', yanchor='middle',\n",
    "         text='',\n",
    "         # text='<b>Top Connections</b>',\n",
    "         font=dict(size=15,\n",
    "                   color='rgb(37,37,37)'),\n",
    "         showarrow=False)\n",
    ")\n",
    "\n",
    "fig.update_layout(\n",
    "    annotations=annotations\n",
    ");"
   ]
  },
  {
   "cell_type": "markdown",
   "id": "47c030d8-123d-4075-ba88-ab77ef39f182",
   "metadata": {},
   "source": [
    "### Identify proportions in job positions found in connections"
   ]
  },
  {
   "cell_type": "code",
   "execution_count": null,
   "id": "9f53d727-06b9-4af5-8648-7618f1174719",
   "metadata": {
    "tags": []
   },
   "outputs": [],
   "source": [
    "fig.add_trace(\n",
    "    go.Pie(labels=network_data_count_pos['Position'], \n",
    "           values=network_data_count_pos['Count'], \n",
    "           pull=0.015,\n",
    "           name='',\n",
    "           marker_colors=px.colors.qualitative.Set3,\n",
    "           hole=0.4, hovertemplate='Role: %{label}<br>Count: %{value}<br>% of total: %{percent}'), \n",
    "    row=1, col=2\n",
    ")\n",
    "\n",
    "annotations = list()\n",
    "annotations.append(\n",
    "    dict(x=0.0, y=1,\n",
    "         xanchor='auto', yanchor='middle',\n",
    "         text='',\n",
    "         # text='<b>Top {} connected positions</b>'.format(network_data_count_pos.shape[0]),\n",
    "         font=dict(size=15,\n",
    "                   color='rgb(37,37,37)'),\n",
    "         showarrow=False)\n",
    ")\n",
    "\n",
    "fig.update_layout(\n",
    "    annotations=annotations\n",
    ")\n",
    "\n",
    "fig.write_html('chart1.html', include_plotlyjs=False, full_html=False, config=general_config)"
   ]
  },
  {
   "cell_type": "markdown",
   "id": "aaff9d91-27a5-4dd4-8e2e-73b48b62dbc2",
   "metadata": {},
   "source": [
    "### Generate timeline of established connections"
   ]
  },
  {
   "cell_type": "code",
   "execution_count": null,
   "id": "f876487e-314a-467e-8a99-1a1b7f3acf25",
   "metadata": {},
   "outputs": [],
   "source": [
    "line_data = network_data.groupby('Connected On').count().reset_index()\n",
    "start_x = line_data['Connected On'][0]\n",
    "start_y = line_data['First Name'][0]\n",
    "last_x = line_data['Connected On'][line_data.shape[0]-1]\n",
    "last_y = line_data['First Name'][line_data.shape[0]-1]\n",
    "max_y = line_data.loc[np.argmax(line_data['First Name']), 'First Name']\n",
    "max_x = line_data.loc[np.argmax(line_data['First Name']), 'Connected On']\n",
    "\n",
    "fig2.add_trace(\n",
    "        go.Scatter(\n",
    "            x=line_data['Connected On'], \n",
    "            y=line_data['First Name'],\n",
    "            hovertemplate='Date: %{x}<br>Count: %{y}',\n",
    "            hoverlabel=dict(bgcolor='white', font=dict(color='black')),\n",
    "            opacity=0.5,\n",
    "            mode='lines',\n",
    "            name='',\n",
    "            line=dict(width=1)\n",
    "        )\n",
    ")\n",
    "\n",
    "fig2.add_trace(\n",
    "    go.Scatter(\n",
    "        x=[start_x],\n",
    "        y=[start_y],\n",
    "        mode='markers',\n",
    "        hovertemplate='Date: %{x}<br>Count: %{y}',\n",
    "        hoverlabel=dict(bgcolor='white', font=dict(color='black')),\n",
    "        name='',\n",
    "        marker=dict(opacity=0.85)\n",
    "    )\n",
    ")\n",
    "\n",
    "annotations = list()\n",
    "annotations.append(\n",
    "    dict(xref='paper', yref='paper', x=0.0, y=1.05,\n",
    "         xanchor='left', yanchor='bottom',\n",
    "         text='',\n",
    "         # text='<b>LinkedIn Connections</b>',\n",
    "         font=dict(size=15,\n",
    "                   color='rgb(37,37,37)'),\n",
    "         showarrow=False)\n",
    ")\n",
    "annotations.append(\n",
    "    dict(x=max_x,\n",
    "         y=max_y,\n",
    "         text=f'Top connections: {max_y}',\n",
    "         font=dict(size=10,\n",
    "                   color='rgb(37,37,37)'),\n",
    "         showarrow=True,\n",
    "         arrowhead=1, \n",
    "         yshift=5)\n",
    ")\n",
    "\n",
    "annotations.append(\n",
    "    dict(x=start_x,\n",
    "         y=start_y,\n",
    "         xanchor='right', yanchor='middle',\n",
    "         text='{}: {}'.format(start_x.strftime('%Y-%m-%d'), start_y),\n",
    "         xshift=-5,\n",
    "         font=dict(size=10),\n",
    "         showarrow=False)\n",
    ")\n",
    "\n",
    "annotations.append(\n",
    "    dict(x=last_x,\n",
    "         y=last_y,\n",
    "         xanchor='left', yanchor='middle',\n",
    "         text='{}: {}'.format(last_x.strftime('%Y-%m-%d'), last_y),\n",
    "         xshift=5,\n",
    "         font=dict(size=10),\n",
    "         showarrow=False)\n",
    ")\n",
    "\n",
    "fig2.update_layout(\n",
    "    xaxis=dict(\n",
    "        showline=True, \n",
    "        showgrid=False,\n",
    "        showticklabels=True,\n",
    "        linecolor='rgb(204, 204, 204)',\n",
    "        linewidth=1,\n",
    "        ticks='outside',\n",
    "        tickcolor='rgb(204, 204, 204)',\n",
    "        tickfont=dict(\n",
    "            size=10,\n",
    "            color='rgb(82, 82, 82)',\n",
    "        )\n",
    "    ), \n",
    "    yaxis=dict(\n",
    "        showline=False, \n",
    "        showgrid=False, \n",
    "        zeroline=False, \n",
    "        showticklabels=False\n",
    "    ),\n",
    "    plot_bgcolor='white',\n",
    "    showlegend=False,\n",
    "    annotations=annotations,\n",
    ");\n",
    "\n",
    "fig2.write_html('chart2.html', include_plotlyjs=False, full_html=False, config=general_config)"
   ]
  },
  {
   "cell_type": "markdown",
   "id": "da34bdc8-b004-4925-b79c-73b2878c2395",
   "metadata": {},
   "source": [
    "### Create simple network graph of top connected companies"
   ]
  },
  {
   "cell_type": "code",
   "execution_count": null,
   "id": "5adec7ee-34e1-4575-8669-b00bd1cb5932",
   "metadata": {},
   "outputs": [],
   "source": [
    "G = nx.Graph()\n",
    "\n",
    "for _, row in network_data_count_comp.iterrows():\n",
    "    company = row['Company']\n",
    "\n",
    "    positions = set([x for x in network_data[network_data['Company'] == company]['Position']])\n",
    "    count = len(positions)\n",
    "    positions = ''.join('<li>{}</li>'.format(x) for x in positions)\n",
    "    title = f\"<b>{company}</b> – {count}\"\n",
    "\n",
    "    position_list = f\"<ul>{positions}</ul>\"\n",
    "    hover_info = title + position_list\n",
    "    \n",
    "    G.add_edge(company, '', color='F5F5EB')\n",
    "    G.add_node(company, size=count*4.5, title=hover_info, color='F5F5EB')\n",
    "\n",
    "##### add to pyvis\n",
    "nt = net.Network(height='700px', width='100%', bgcolor='#222222', font_color='white')\n",
    "nt.from_nx(G)\n",
    "nt.hrepulsion()\n",
    "nt.set_edge_smooth('cubicBezier')\n",
    "nt.write_html('company_graph.html')\n",
    "# nt.show('company_graph.html')\n",
    "# # display(HTML('company_graph.html'))"
   ]
  },
  {
   "cell_type": "markdown",
   "id": "39cd7665-d189-490f-b449-6eca0bd14596",
   "metadata": {},
   "source": [
    "### Export to HTML and PDF"
   ]
  },
  {
   "cell_type": "code",
   "execution_count": null,
   "id": "6f7500de-f766-47d5-aaab-8a704a1a65ef",
   "metadata": {},
   "outputs": [],
   "source": [
    "transcribe_html('company_graph.html', output_html_fname, 'network', '', None, html_template_fname)\n",
    "transcribe_html('chart1.html', output_html_fname, 'chart', '\"', 'class', None, '(chart1)', '(chart1_script)')\n",
    "transcribe_html('chart2.html', output_html_fname, 'chart', '\"', 'class', None, '(chart2)', '(chart2_script)')"
   ]
  },
  {
   "cell_type": "code",
   "execution_count": null,
   "id": "e85e5afd-46b5-46fd-876c-bb556b226368",
   "metadata": {},
   "outputs": [],
   "source": [
    "if bool_to_pdf:\n",
    "    with open(output_html_fname, 'r', encoding='utf-8') as f:\n",
    "        html_file = f.read()\n",
    "    html_string = str(BeautifulSoup(html_file, 'html.parser'))\n",
    "    convert_html_to_pdf(html_string, pdf_fname)"
   ]
  }
 ],
 "metadata": {
  "kernelspec": {
   "display_name": "Python 3 (ipykernel)",
   "language": "python",
   "name": "python3"
  },
  "language_info": {
   "codemirror_mode": {
    "name": "ipython",
    "version": 3
   },
   "file_extension": ".py",
   "mimetype": "text/x-python",
   "name": "python",
   "nbconvert_exporter": "python",
   "pygments_lexer": "ipython3",
   "version": "3.9.7"
  }
 },
 "nbformat": 4,
 "nbformat_minor": 5
}
